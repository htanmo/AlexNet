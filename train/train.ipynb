{
  "cells": [
    {
      "cell_type": "code",
      "execution_count": 1,
      "id": "a24e51b0-6d60-49a7-a29f-4d8f72fbf98c",
      "metadata": {
        "id": "a24e51b0-6d60-49a7-a29f-4d8f72fbf98c"
      },
      "outputs": [],
      "source": [
        "import numpy as np\n",
        "import torch\n",
        "import torch.nn as nn\n",
        "import torch.optim as optim\n",
        "from torch.utils.data import DataLoader\n",
        "from torchvision import datasets, transforms\n",
        "from torch.utils.data.sampler import SubsetRandomSampler"
      ]
    },
    {
      "cell_type": "code",
      "source": [
        "device = torch.device('cuda' if torch.cuda.is_available() else 'cpu')"
      ],
      "metadata": {
        "id": "0pxOc-eZNR8F"
      },
      "id": "0pxOc-eZNR8F",
      "execution_count": 2,
      "outputs": []
    },
    {
      "cell_type": "code",
      "source": [
        "batch_size = 64\n",
        "data_dir = './data'\n",
        "valid_size = 0.2"
      ],
      "metadata": {
        "id": "IOqcneea50Bc"
      },
      "id": "IOqcneea50Bc",
      "execution_count": 3,
      "outputs": []
    },
    {
      "cell_type": "code",
      "source": [
        "normalize = transforms.Normalize(\n",
        "    mean=[0.4914, 0.4822, 0.4465],\n",
        "    std=[0.2023, 0.1994, 0.2010],\n",
        ")\n",
        "\n",
        "valid_transform = transforms.Compose([\n",
        "  transforms.Resize((227,227)),\n",
        "  transforms.ToTensor(),\n",
        "  normalize\n",
        "])\n",
        "\n",
        "train_transform = transforms.Compose([\n",
        "    transforms.RandomCrop(32, padding=4),\n",
        "    transforms.RandomHorizontalFlip(),\n",
        "    transforms.Resize((227,227)),\n",
        "    transforms.ToTensor(),\n",
        "    normalize,\n",
        "])\n",
        "\n",
        "train_dataset = datasets.CIFAR10(\n",
        "    root=data_dir, train=True,\n",
        "    download=True, transform=train_transform,\n",
        ")\n",
        "\n",
        "valid_dataset = datasets.CIFAR10(\n",
        "    root=data_dir, train=True,\n",
        "    download=True, transform=valid_transform,\n",
        ")\n",
        "\n",
        "num_train = len(train_dataset)\n",
        "indices = list(range(num_train))\n",
        "split = int(np.floor(valid_size * num_train))\n",
        "\n",
        "np.random.shuffle(indices)\n",
        "\n",
        "train_idx, valid_idx = indices[split:], indices[:split]\n",
        "train_sampler = SubsetRandomSampler(train_idx)\n",
        "valid_sampler = SubsetRandomSampler(valid_idx)\n",
        "\n",
        "train_loader = torch.utils.data.DataLoader(\n",
        "    train_dataset, batch_size=batch_size, sampler=train_sampler\n",
        ")\n",
        "\n",
        "valid_loader = torch.utils.data.DataLoader(\n",
        "    valid_dataset, batch_size=batch_size, sampler=valid_sampler\n",
        ")"
      ],
      "metadata": {
        "colab": {
          "base_uri": "https://localhost:8080/"
        },
        "id": "E5bsnXhhYSpM",
        "outputId": "06bc0552-01c8-4d6d-acf3-74b8e8d6a5b9"
      },
      "id": "E5bsnXhhYSpM",
      "execution_count": 4,
      "outputs": [
        {
          "output_type": "stream",
          "name": "stdout",
          "text": [
            "Downloading https://www.cs.toronto.edu/~kriz/cifar-10-python.tar.gz to ./data/cifar-10-python.tar.gz\n"
          ]
        },
        {
          "output_type": "stream",
          "name": "stderr",
          "text": [
            "100%|██████████| 170M/170M [00:06<00:00, 25.5MB/s]\n"
          ]
        },
        {
          "output_type": "stream",
          "name": "stdout",
          "text": [
            "Extracting ./data/cifar-10-python.tar.gz to ./data\n",
            "Files already downloaded and verified\n"
          ]
        }
      ]
    },
    {
      "cell_type": "code",
      "source": [
        "normalize = transforms.Normalize(\n",
        "  mean=[0.485, 0.456, 0.406],\n",
        "  std=[0.229, 0.224, 0.225],\n",
        ")\n",
        "\n",
        "transform = transforms.Compose([\n",
        "    transforms.Resize((227,227)),\n",
        "    transforms.ToTensor(),\n",
        "    normalize,\n",
        "])\n",
        "\n",
        "test_dataset = datasets.CIFAR10(\n",
        "    root=data_dir, train=False,\n",
        "    download=True, transform=transform,\n",
        ")\n",
        "\n",
        "test_loader = torch.utils.data.DataLoader(\n",
        "    test_dataset, batch_size=batch_size, shuffle=False\n",
        ")"
      ],
      "metadata": {
        "colab": {
          "base_uri": "https://localhost:8080/"
        },
        "id": "3jLj1-aD5R8K",
        "outputId": "8ff5bbca-613b-4d0b-daaf-d5f1baabd949"
      },
      "id": "3jLj1-aD5R8K",
      "execution_count": 5,
      "outputs": [
        {
          "output_type": "stream",
          "name": "stdout",
          "text": [
            "Files already downloaded and verified\n"
          ]
        }
      ]
    },
    {
      "cell_type": "code",
      "execution_count": 6,
      "id": "d6bd662b-c016-4645-9c30-a8f5f7dba31f",
      "metadata": {
        "id": "d6bd662b-c016-4645-9c30-a8f5f7dba31f"
      },
      "outputs": [],
      "source": [
        "class AlexNet(nn.Module):\n",
        "    def __init__(self, num_classes=10):\n",
        "        super(AlexNet, self).__init__()\n",
        "        self.conv1 = nn.Conv2d(3, 96, 11, 4, padding=0)\n",
        "        self.conv2 = nn.Conv2d(96, 256, 5, 1, padding=2)\n",
        "        self.conv3 = nn.Conv2d(256, 384, 3, 1, padding=1)\n",
        "        self.conv4 = nn.Conv2d(384, 384, 3, 1, padding=1)\n",
        "        self.conv5 = nn.Conv2d(384, 256, 3, 1, padding=1)\n",
        "        self.pool = nn.MaxPool2d(3, 2)\n",
        "        self.relu = nn.ReLU()\n",
        "        self.flatten = nn.Flatten()\n",
        "        self.batchnorm = nn.BatchNorm2d(256)\n",
        "        self.fc1 = nn.Linear(9216, 4096)\n",
        "        self.fc2 = nn.Linear(4096, 4096)\n",
        "        self.dropout = nn.Dropout(0.5)\n",
        "        self.fc3 = nn.Linear(4096, num_classes)\n",
        "\n",
        "    def forward(self, x):\n",
        "        x = self.relu(self.conv1(x))\n",
        "        x = self.pool(x)\n",
        "        x = self.relu(self.conv2(x))\n",
        "        x = self.pool(x)\n",
        "        x = self.batchnorm(x)\n",
        "        x = self.relu(self.conv3(x))\n",
        "        x = self.relu(self.conv4(x))\n",
        "        x = self.relu(self.conv5(x))\n",
        "        x = self.pool(x)\n",
        "        x = self.flatten(x)\n",
        "        x = self.dropout(x)\n",
        "        x = self.relu(self.fc1(x))\n",
        "        x = self.dropout(x)\n",
        "        x = self.relu(self.fc2(x))\n",
        "        out = self.fc3(x)\n",
        "        return out"
      ]
    },
    {
      "cell_type": "code",
      "execution_count": 7,
      "id": "b224ec95-521a-4254-9093-b7d61185d04e",
      "metadata": {
        "colab": {
          "base_uri": "https://localhost:8080/"
        },
        "id": "b224ec95-521a-4254-9093-b7d61185d04e",
        "outputId": "8717c382-290c-4819-ba17-4e8789a3a42b"
      },
      "outputs": [
        {
          "output_type": "stream",
          "name": "stdout",
          "text": [
            "AlexNet(\n",
            "  (conv1): Conv2d(3, 96, kernel_size=(11, 11), stride=(4, 4))\n",
            "  (conv2): Conv2d(96, 256, kernel_size=(5, 5), stride=(1, 1), padding=(2, 2))\n",
            "  (conv3): Conv2d(256, 384, kernel_size=(3, 3), stride=(1, 1), padding=(1, 1))\n",
            "  (conv4): Conv2d(384, 384, kernel_size=(3, 3), stride=(1, 1), padding=(1, 1))\n",
            "  (conv5): Conv2d(384, 256, kernel_size=(3, 3), stride=(1, 1), padding=(1, 1))\n",
            "  (pool): MaxPool2d(kernel_size=3, stride=2, padding=0, dilation=1, ceil_mode=False)\n",
            "  (relu): ReLU()\n",
            "  (flatten): Flatten(start_dim=1, end_dim=-1)\n",
            "  (batchnorm): BatchNorm2d(256, eps=1e-05, momentum=0.1, affine=True, track_running_stats=True)\n",
            "  (fc1): Linear(in_features=9216, out_features=4096, bias=True)\n",
            "  (fc2): Linear(in_features=4096, out_features=4096, bias=True)\n",
            "  (dropout): Dropout(p=0.5, inplace=False)\n",
            "  (fc3): Linear(in_features=4096, out_features=10, bias=True)\n",
            ")\n"
          ]
        }
      ],
      "source": [
        "num_classes = 10\n",
        "num_epochs = 20\n",
        "learning_rate = 0.005\n",
        "\n",
        "model = AlexNet(num_classes).to(device)\n",
        "print(model)\n",
        "\n",
        "criterion = nn.CrossEntropyLoss()\n",
        "optimizer = optim.SGD(model.parameters(), lr=learning_rate, weight_decay = 0.005, momentum = 0.9)"
      ]
    },
    {
      "cell_type": "code",
      "source": [
        "total_step = len(train_loader)\n",
        "\n",
        "for epoch in range(num_epochs):\n",
        "  model.train()\n",
        "  for i, (images, labels) in enumerate(train_loader):\n",
        "      images = images.to(device)\n",
        "      labels = labels.to(device)\n",
        "\n",
        "      outputs = model(images)\n",
        "      loss = criterion(outputs, labels)\n",
        "\n",
        "      optimizer.zero_grad()\n",
        "      loss.backward()\n",
        "      optimizer.step()\n",
        "\n",
        "  print('Epoch [{}/{}], Step [{}/{}], Loss: {:.4f}'\n",
        "                  .format(epoch+1, num_epochs, i+1, total_step, loss.item()))\n",
        "  model.eval()\n",
        "  with torch.no_grad():\n",
        "      correct = 0\n",
        "      total = 0\n",
        "      for images, labels in valid_loader:\n",
        "          images = images.to(device)\n",
        "          labels = labels.to(device)\n",
        "          outputs = model(images)\n",
        "          _, predicted = torch.max(outputs.data, 1)\n",
        "          total += labels.size(0)\n",
        "          correct += (predicted == labels).sum().item()\n",
        "          del images, labels, outputs\n",
        "\n",
        "      print('Accuracy of the network on the {} validation images: {} %'.format(5000, 100 * correct / total))"
      ],
      "metadata": {
        "id": "IqB9do67ebuz",
        "colab": {
          "base_uri": "https://localhost:8080/"
        },
        "outputId": "6ef6070f-9ef9-40d4-c9d4-34943dfaa3d0"
      },
      "id": "IqB9do67ebuz",
      "execution_count": 8,
      "outputs": [
        {
          "output_type": "stream",
          "name": "stdout",
          "text": [
            "Epoch [1/20], Step [625/625], Loss: 1.5481\n",
            "Accuracy of the network on the 5000 validation images: 47.04 %\n",
            "Epoch [2/20], Step [625/625], Loss: 1.3623\n",
            "Accuracy of the network on the 5000 validation images: 58.76 %\n",
            "Epoch [3/20], Step [625/625], Loss: 0.7689\n",
            "Accuracy of the network on the 5000 validation images: 60.82 %\n",
            "Epoch [4/20], Step [625/625], Loss: 1.0508\n",
            "Accuracy of the network on the 5000 validation images: 63.48 %\n",
            "Epoch [5/20], Step [625/625], Loss: 0.8039\n",
            "Accuracy of the network on the 5000 validation images: 68.02 %\n",
            "Epoch [6/20], Step [625/625], Loss: 0.8924\n",
            "Accuracy of the network on the 5000 validation images: 65.9 %\n",
            "Epoch [7/20], Step [625/625], Loss: 0.9834\n",
            "Accuracy of the network on the 5000 validation images: 69.15 %\n",
            "Epoch [8/20], Step [625/625], Loss: 0.8536\n",
            "Accuracy of the network on the 5000 validation images: 72.64 %\n",
            "Epoch [9/20], Step [625/625], Loss: 0.8948\n",
            "Accuracy of the network on the 5000 validation images: 73.68 %\n",
            "Epoch [10/20], Step [625/625], Loss: 0.9050\n",
            "Accuracy of the network on the 5000 validation images: 72.72 %\n",
            "Epoch [11/20], Step [625/625], Loss: 0.6361\n",
            "Accuracy of the network on the 5000 validation images: 71.9 %\n",
            "Epoch [12/20], Step [625/625], Loss: 0.5761\n",
            "Accuracy of the network on the 5000 validation images: 75.35 %\n",
            "Epoch [13/20], Step [625/625], Loss: 0.4983\n",
            "Accuracy of the network on the 5000 validation images: 74.04 %\n",
            "Epoch [14/20], Step [625/625], Loss: 0.6327\n",
            "Accuracy of the network on the 5000 validation images: 73.4 %\n",
            "Epoch [15/20], Step [625/625], Loss: 0.7118\n",
            "Accuracy of the network on the 5000 validation images: 78.2 %\n",
            "Epoch [16/20], Step [625/625], Loss: 0.5166\n",
            "Accuracy of the network on the 5000 validation images: 75.44 %\n",
            "Epoch [17/20], Step [625/625], Loss: 0.7374\n",
            "Accuracy of the network on the 5000 validation images: 77.81 %\n",
            "Epoch [18/20], Step [625/625], Loss: 0.6374\n",
            "Accuracy of the network on the 5000 validation images: 76.48 %\n",
            "Epoch [19/20], Step [625/625], Loss: 0.6024\n",
            "Accuracy of the network on the 5000 validation images: 78.46 %\n",
            "Epoch [20/20], Step [625/625], Loss: 0.5717\n",
            "Accuracy of the network on the 5000 validation images: 76.26 %\n"
          ]
        }
      ]
    },
    {
      "cell_type": "code",
      "source": [
        "with torch.no_grad():\n",
        "  correct = 0\n",
        "  total = 0\n",
        "  for images, labels in test_loader:\n",
        "    images = images.to(device)\n",
        "    labels = labels.to(device)\n",
        "    outputs = model(images)\n",
        "    _, predicted = torch.max(outputs.data, 1)\n",
        "    total += labels.size(0)\n",
        "    correct += (predicted == labels).sum().item()\n",
        "    del images, labels, outputs\n",
        "\n",
        "  print('Accuracy of the network on the {} test images: {} %'.format(10000, 100 * correct / total))"
      ],
      "metadata": {
        "colab": {
          "base_uri": "https://localhost:8080/"
        },
        "id": "atfIXc0T7C2h",
        "outputId": "d3e36e22-c978-4084-8a99-4f96b77ae8c8"
      },
      "id": "atfIXc0T7C2h",
      "execution_count": 9,
      "outputs": [
        {
          "output_type": "stream",
          "name": "stdout",
          "text": [
            "Accuracy of the network on the 10000 test images: 76.09 %\n"
          ]
        }
      ]
    }
  ],
  "metadata": {
    "kernelspec": {
      "display_name": "Python 3",
      "name": "python3"
    },
    "language_info": {
      "codemirror_mode": {
        "name": "ipython",
        "version": 3
      },
      "file_extension": ".py",
      "mimetype": "text/x-python",
      "name": "python",
      "nbconvert_exporter": "python",
      "pygments_lexer": "ipython3",
      "version": "3.12.3"
    },
    "colab": {
      "provenance": [],
      "gpuType": "T4"
    },
    "accelerator": "GPU"
  },
  "nbformat": 4,
  "nbformat_minor": 5
}